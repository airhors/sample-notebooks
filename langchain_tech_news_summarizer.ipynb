{
 "cells": [
  {
   "cell_type": "code",
   "execution_count": 1,
   "id": "e898fe7f-9015-435c-bab0-c63d8c728164",
   "metadata": {
    "collapsed": true,
    "jupyter": {
     "outputs_hidden": true
    },
    "tags": []
   },
   "outputs": [
    {
     "name": "stdout",
     "output_type": "stream",
     "text": [
      "Requirement already satisfied: playwright==1.38.0 in /Users/haozheng/opt/anaconda3/lib/python3.9/site-packages (1.38.0)\n",
      "Requirement already satisfied: greenlet==2.0.2 in /Users/haozheng/opt/anaconda3/lib/python3.9/site-packages (from playwright==1.38.0) (2.0.2)\n",
      "Requirement already satisfied: pyee==9.0.4 in /Users/haozheng/opt/anaconda3/lib/python3.9/site-packages (from playwright==1.38.0) (9.0.4)\n",
      "Requirement already satisfied: typing-extensions in /Users/haozheng/opt/anaconda3/lib/python3.9/site-packages (from pyee==9.0.4->playwright==1.38.0) (4.8.0)\n",
      "Requirement already satisfied: beautifulsoup4==4.10.0 in /Users/haozheng/opt/anaconda3/lib/python3.9/site-packages (4.10.0)\n",
      "Requirement already satisfied: soupsieve>1.2 in /Users/haozheng/opt/anaconda3/lib/python3.9/site-packages (from beautifulsoup4==4.10.0) (2.2.1)\n",
      "Requirement already satisfied: langchain==0.0.314 in /Users/haozheng/opt/anaconda3/lib/python3.9/site-packages (0.0.314)\n",
      "Requirement already satisfied: tenacity<9.0.0,>=8.1.0 in /Users/haozheng/opt/anaconda3/lib/python3.9/site-packages (from langchain==0.0.314) (8.2.3)\n",
      "Requirement already satisfied: SQLAlchemy<3,>=1.4 in /Users/haozheng/opt/anaconda3/lib/python3.9/site-packages (from langchain==0.0.314) (1.4.46)\n",
      "Requirement already satisfied: PyYAML>=5.3 in /Users/haozheng/opt/anaconda3/lib/python3.9/site-packages (from langchain==0.0.314) (5.4.1)\n",
      "Requirement already satisfied: requests<3,>=2 in /Users/haozheng/opt/anaconda3/lib/python3.9/site-packages (from langchain==0.0.314) (2.26.0)\n",
      "Requirement already satisfied: langsmith<0.1.0,>=0.0.43 in /Users/haozheng/opt/anaconda3/lib/python3.9/site-packages (from langchain==0.0.314) (0.0.43)\n",
      "Requirement already satisfied: dataclasses-json<0.7,>=0.5.7 in /Users/haozheng/opt/anaconda3/lib/python3.9/site-packages (from langchain==0.0.314) (0.6.1)\n",
      "Requirement already satisfied: pydantic<3,>=1 in /Users/haozheng/opt/anaconda3/lib/python3.9/site-packages (from langchain==0.0.314) (2.4.2)\n",
      "Requirement already satisfied: anyio<4.0 in /Users/haozheng/opt/anaconda3/lib/python3.9/site-packages (from langchain==0.0.314) (3.5.0)\n",
      "Requirement already satisfied: aiohttp<4.0.0,>=3.8.3 in /Users/haozheng/opt/anaconda3/lib/python3.9/site-packages (from langchain==0.0.314) (3.8.6)\n",
      "Requirement already satisfied: numpy<2,>=1 in /Users/haozheng/opt/anaconda3/lib/python3.9/site-packages (from langchain==0.0.314) (1.20.3)\n",
      "Requirement already satisfied: async-timeout<5.0.0,>=4.0.0 in /Users/haozheng/opt/anaconda3/lib/python3.9/site-packages (from langchain==0.0.314) (4.0.2)\n",
      "Requirement already satisfied: jsonpatch<2.0,>=1.33 in /Users/haozheng/opt/anaconda3/lib/python3.9/site-packages (from langchain==0.0.314) (1.33)\n",
      "Requirement already satisfied: yarl<2.0,>=1.0 in /Users/haozheng/opt/anaconda3/lib/python3.9/site-packages (from aiohttp<4.0.0,>=3.8.3->langchain==0.0.314) (1.7.2)\n",
      "Requirement already satisfied: multidict<7.0,>=4.5 in /Users/haozheng/opt/anaconda3/lib/python3.9/site-packages (from aiohttp<4.0.0,>=3.8.3->langchain==0.0.314) (6.0.2)\n",
      "Requirement already satisfied: aiosignal>=1.1.2 in /Users/haozheng/opt/anaconda3/lib/python3.9/site-packages (from aiohttp<4.0.0,>=3.8.3->langchain==0.0.314) (1.2.0)\n",
      "Requirement already satisfied: charset-normalizer<4.0,>=2.0 in /Users/haozheng/opt/anaconda3/lib/python3.9/site-packages (from aiohttp<4.0.0,>=3.8.3->langchain==0.0.314) (2.0.4)\n",
      "Requirement already satisfied: frozenlist>=1.1.1 in /Users/haozheng/opt/anaconda3/lib/python3.9/site-packages (from aiohttp<4.0.0,>=3.8.3->langchain==0.0.314) (1.3.0)\n",
      "Requirement already satisfied: attrs>=17.3.0 in /Users/haozheng/opt/anaconda3/lib/python3.9/site-packages (from aiohttp<4.0.0,>=3.8.3->langchain==0.0.314) (20.3.0)\n",
      "Requirement already satisfied: idna>=2.8 in /Users/haozheng/opt/anaconda3/lib/python3.9/site-packages (from anyio<4.0->langchain==0.0.314) (3.2)\n",
      "Requirement already satisfied: sniffio>=1.1 in /Users/haozheng/opt/anaconda3/lib/python3.9/site-packages (from anyio<4.0->langchain==0.0.314) (1.2.0)\n",
      "Requirement already satisfied: typing-inspect<1,>=0.4.0 in /Users/haozheng/opt/anaconda3/lib/python3.9/site-packages (from dataclasses-json<0.7,>=0.5.7->langchain==0.0.314) (0.9.0)\n",
      "Requirement already satisfied: marshmallow<4.0.0,>=3.18.0 in /Users/haozheng/opt/anaconda3/lib/python3.9/site-packages (from dataclasses-json<0.7,>=0.5.7->langchain==0.0.314) (3.20.1)\n",
      "Requirement already satisfied: jsonpointer>=1.9 in /Users/haozheng/opt/anaconda3/lib/python3.9/site-packages (from jsonpatch<2.0,>=1.33->langchain==0.0.314) (2.4)\n",
      "Requirement already satisfied: packaging>=17.0 in /Users/haozheng/opt/anaconda3/lib/python3.9/site-packages (from marshmallow<4.0.0,>=3.18.0->dataclasses-json<0.7,>=0.5.7->langchain==0.0.314) (21.0)\n",
      "Requirement already satisfied: pyparsing>=2.0.2 in /Users/haozheng/opt/anaconda3/lib/python3.9/site-packages (from packaging>=17.0->marshmallow<4.0.0,>=3.18.0->dataclasses-json<0.7,>=0.5.7->langchain==0.0.314) (3.0.4)\n",
      "Requirement already satisfied: typing-extensions>=4.6.1 in /Users/haozheng/opt/anaconda3/lib/python3.9/site-packages (from pydantic<3,>=1->langchain==0.0.314) (4.8.0)\n",
      "Requirement already satisfied: annotated-types>=0.4.0 in /Users/haozheng/opt/anaconda3/lib/python3.9/site-packages (from pydantic<3,>=1->langchain==0.0.314) (0.6.0)\n",
      "Requirement already satisfied: pydantic-core==2.10.1 in /Users/haozheng/opt/anaconda3/lib/python3.9/site-packages (from pydantic<3,>=1->langchain==0.0.314) (2.10.1)\n",
      "Requirement already satisfied: certifi>=2017.4.17 in /Users/haozheng/opt/anaconda3/lib/python3.9/site-packages (from requests<3,>=2->langchain==0.0.314) (2021.10.8)\n",
      "Requirement already satisfied: urllib3<1.27,>=1.21.1 in /Users/haozheng/opt/anaconda3/lib/python3.9/site-packages (from requests<3,>=2->langchain==0.0.314) (1.26.9)\n",
      "Requirement already satisfied: greenlet!=0.4.17 in /Users/haozheng/opt/anaconda3/lib/python3.9/site-packages (from SQLAlchemy<3,>=1.4->langchain==0.0.314) (2.0.2)\n",
      "Requirement already satisfied: mypy-extensions>=0.3.0 in /Users/haozheng/opt/anaconda3/lib/python3.9/site-packages (from typing-inspect<1,>=0.4.0->dataclasses-json<0.7,>=0.5.7->langchain==0.0.314) (0.4.3)\n",
      "Requirement already satisfied: goose3==3.1.17 in /Users/haozheng/opt/anaconda3/lib/python3.9/site-packages (3.1.17)\n",
      "Requirement already satisfied: Pillow in /Users/haozheng/opt/anaconda3/lib/python3.9/site-packages (from goose3==3.1.17) (8.4.0)\n",
      "Requirement already satisfied: python-dateutil in /Users/haozheng/opt/anaconda3/lib/python3.9/site-packages (from goose3==3.1.17) (2.8.2)\n",
      "Requirement already satisfied: lxml in /Users/haozheng/opt/anaconda3/lib/python3.9/site-packages (from goose3==3.1.17) (4.6.3)\n",
      "Requirement already satisfied: beautifulsoup4 in /Users/haozheng/opt/anaconda3/lib/python3.9/site-packages (from goose3==3.1.17) (4.10.0)\n",
      "Requirement already satisfied: langdetect in /Users/haozheng/opt/anaconda3/lib/python3.9/site-packages (from goose3==3.1.17) (1.0.9)\n",
      "Requirement already satisfied: cssselect in /Users/haozheng/opt/anaconda3/lib/python3.9/site-packages (from goose3==3.1.17) (1.2.0)\n",
      "Requirement already satisfied: pyahocorasick in /Users/haozheng/opt/anaconda3/lib/python3.9/site-packages (from goose3==3.1.17) (2.0.0)\n",
      "Requirement already satisfied: requests in /Users/haozheng/opt/anaconda3/lib/python3.9/site-packages (from goose3==3.1.17) (2.26.0)\n",
      "Requirement already satisfied: soupsieve>1.2 in /Users/haozheng/opt/anaconda3/lib/python3.9/site-packages (from beautifulsoup4->goose3==3.1.17) (2.2.1)\n",
      "Requirement already satisfied: six in /Users/haozheng/opt/anaconda3/lib/python3.9/site-packages (from langdetect->goose3==3.1.17) (1.16.0)\n",
      "Requirement already satisfied: charset-normalizer~=2.0.0 in /Users/haozheng/opt/anaconda3/lib/python3.9/site-packages (from requests->goose3==3.1.17) (2.0.4)\n",
      "Requirement already satisfied: urllib3<1.27,>=1.21.1 in /Users/haozheng/opt/anaconda3/lib/python3.9/site-packages (from requests->goose3==3.1.17) (1.26.9)\n",
      "Requirement already satisfied: idna<4,>=2.5 in /Users/haozheng/opt/anaconda3/lib/python3.9/site-packages (from requests->goose3==3.1.17) (3.2)\n",
      "Requirement already satisfied: certifi>=2017.4.17 in /Users/haozheng/opt/anaconda3/lib/python3.9/site-packages (from requests->goose3==3.1.17) (2021.10.8)\n",
      "Requirement already satisfied: openai==0.27.2 in /Users/haozheng/opt/anaconda3/lib/python3.9/site-packages (0.27.2)\n",
      "Requirement already satisfied: tqdm in /Users/haozheng/opt/anaconda3/lib/python3.9/site-packages (from openai==0.27.2) (4.62.3)\n",
      "Requirement already satisfied: requests>=2.20 in /Users/haozheng/opt/anaconda3/lib/python3.9/site-packages (from openai==0.27.2) (2.26.0)\n",
      "Requirement already satisfied: aiohttp in /Users/haozheng/opt/anaconda3/lib/python3.9/site-packages (from openai==0.27.2) (3.8.6)\n",
      "Requirement already satisfied: certifi>=2017.4.17 in /Users/haozheng/opt/anaconda3/lib/python3.9/site-packages (from requests>=2.20->openai==0.27.2) (2021.10.8)\n",
      "Requirement already satisfied: idna<4,>=2.5 in /Users/haozheng/opt/anaconda3/lib/python3.9/site-packages (from requests>=2.20->openai==0.27.2) (3.2)\n",
      "Requirement already satisfied: charset-normalizer~=2.0.0 in /Users/haozheng/opt/anaconda3/lib/python3.9/site-packages (from requests>=2.20->openai==0.27.2) (2.0.4)\n",
      "Requirement already satisfied: urllib3<1.27,>=1.21.1 in /Users/haozheng/opt/anaconda3/lib/python3.9/site-packages (from requests>=2.20->openai==0.27.2) (1.26.9)\n",
      "Requirement already satisfied: frozenlist>=1.1.1 in /Users/haozheng/opt/anaconda3/lib/python3.9/site-packages (from aiohttp->openai==0.27.2) (1.3.0)\n",
      "Requirement already satisfied: async-timeout<5.0,>=4.0.0a3 in /Users/haozheng/opt/anaconda3/lib/python3.9/site-packages (from aiohttp->openai==0.27.2) (4.0.2)\n",
      "Requirement already satisfied: attrs>=17.3.0 in /Users/haozheng/opt/anaconda3/lib/python3.9/site-packages (from aiohttp->openai==0.27.2) (20.3.0)\n",
      "Requirement already satisfied: multidict<7.0,>=4.5 in /Users/haozheng/opt/anaconda3/lib/python3.9/site-packages (from aiohttp->openai==0.27.2) (6.0.2)\n",
      "Requirement already satisfied: aiosignal>=1.1.2 in /Users/haozheng/opt/anaconda3/lib/python3.9/site-packages (from aiohttp->openai==0.27.2) (1.2.0)\n",
      "Requirement already satisfied: yarl<2.0,>=1.0 in /Users/haozheng/opt/anaconda3/lib/python3.9/site-packages (from aiohttp->openai==0.27.2) (1.7.2)\n"
     ]
    }
   ],
   "source": [
    "!pip3 install playwright==1.38.0\n",
    "!pip3 install beautifulsoup4==4.10.0\n",
    "!pip3 install langchain==0.0.314\n",
    "!pip3 install goose3==3.1.17\n",
    "!pip3 install openai==0.27.2"
   ]
  },
  {
   "cell_type": "code",
   "execution_count": 2,
   "id": "f3cd14a5-2e8e-49c8-838e-6df710053029",
   "metadata": {},
   "outputs": [],
   "source": [
    "OPENAI_KEY=\"\""
   ]
  },
  {
   "cell_type": "code",
   "execution_count": 10,
   "id": "3f002f9d-dba0-4ebb-937a-9d454b37618b",
   "metadata": {},
   "outputs": [],
   "source": [
    "# Web Scraping with Playwright and BeautifulSoup\n",
    "from bs4 import BeautifulSoup\n",
    "from playwright.async_api import async_playwright\n",
    "\n",
    "async def run_playwright(site):\n",
    "    async with async_playwright() as p:\n",
    "        browser = await p.chromium.launch(headless=True)\n",
    "        page = await browser.new_page()\n",
    "        await page.goto(site)\n",
    "        page_source = await page.content()\n",
    "        soup = BeautifulSoup(page_source, \"html.parser\")\n",
    "        \n",
    "        for script in soup([\"script\", \"style\"]): # Remove all javascript and stylesheet code\n",
    "            script.extract()\n",
    "        text = soup.get_text()\n",
    "        # Break into lines and remove leading and trailing space on each\n",
    "        lines = (line.strip() for line in text.splitlines()) \n",
    "        # Break multi-headlines into a line each\n",
    "        chunks = (phrase.strip() for line in lines for phrase in line.split(\"  \")) \n",
    "        data = '\\n'.join(chunk for chunk in chunks if chunk) # Drop blank lines\n",
    "        await browser.close()\n",
    "    return data"
   ]
  },
  {
   "cell_type": "code",
   "execution_count": 11,
   "id": "c1354a22-0e1b-4608-8a05-036e9f4ed11e",
   "metadata": {},
   "outputs": [],
   "source": [
    "output = await run_playwright(\"https://techcrunch.com\")"
   ]
  },
  {
   "cell_type": "code",
   "execution_count": 12,
   "id": "be74862d-753a-4e42-b4a5-2d507135f950",
   "metadata": {
    "collapsed": true,
    "jupyter": {
     "outputs_hidden": true
    },
    "tags": []
   },
   "outputs": [
    {
     "data": {
      "text/plain": [
       "\"TechCrunch | Startup and Technology News\\nTechCrunch\\nplus-bold\\nTechCrunchLoginJoin TechCrunch+SearchsearchTechCrunch+StartupsVentureSecurityAICryptoAppsEventsStartup BattlefieldMoreThe watermelon emoji isn’t just TikTok speak for PalestineMorgan SungTechCrunchplus-boldMarket AnalysisProsecutors will likely proceed with SBF’s second trial in MarchJacquelyn MelinekHardwareHumane’s Ai Pin up closeBrian HeaterAIThis week in AI: OpenAI plays for keeps with GPTsKyle Wiggers, Devin ColdeweyStartupsA comprehensive list of 2023 tech layoffsAlyssa StringerTechCrunch Early StageApril 25, 2024 Boston, MARegister InterestThe LatestTechCrunchplus-boldWorkKeep IT complexity in check with pragmatic composable commerceMariano Gomide de Faria8:35 AM PST•November 12, 2023Mariano Gomide de Faria Contributor Mariano Gomide de Faria has over 20 years of experience in digital commerce and is the founder and co-CEO of global enterprise digital commerce platform VTEX. Le...TechCrunchplus-boldHow Inversion Art is trying to become the Y Combinator of the arts worldHaje Jan Kamps8:00 AM PST•November 12, 2023What if a little bit of investment, a splash of mentoring and practical support, a slew of introductions, and a whole lot of belief could be used to help artists with their careers?\\nTechCrunchplus-boldWorkThree human mistakes VCs often make, and how understanding them can help entrepreneurs fundraise betterAlex Menn7:35 AM PST•November 12, 2023The sheer number of non-economic mistakes made by VCs due to their human nature is seriously underestimated.\\nFintechKlarna’s and Affirm’s very good weekChristine Hall, Mary Ann Azevedo7:25 AM PST•November 12, 2023Welcome back to\\xa0The Interchange, where we take a look at the hottest fintech news of the previous week. If you want to receive The Interchange directly in your inbox every Sunday, head\\xa0here to sign...RoboticsRobotics Q&A: CMU’s Matthew Johnson-RobersonBrian Heater6:15 AM PST•November 12, 2023[A version of this Q&A first appeared in TechCrunch’s weekly robotics newsletter, Actuator. Subscribe here.] Over the next few weeks, TechCrunch will be running a series of Q&As with ...SocialOpenAI hosts a dev day, TechCrunch reviews the M3 iMac and MacBook Pro, and Bumble gets a new CEOKyle Wiggers1:15 PM PST•November 11, 2023Hey, folks, and welcome to Week in Review (WiR), TechCrunch’s newsletter covering the past week (or so) in tech industry happenings. This week marked OpenAI’s first-ever dev conference, where...TechCrunchplus-boldMarket AnalysisWill Airbnb’s co-founder build your next home?Anna Heim10:00 AM PST•November 11, 2023Samara raised $41 million “to bring high quality ADUs to every backyard in California and beyond.” ADUs refer to accessory dwelling units, or more plainly, backyard homes.\\nTechCrunchplus-boldMarket AnalysisDeal Dive: BNPL expands beyond its roots — that’s a good thingRebecca Szkutak9:00 AM PST•November 11, 2023There is a growing group of startups looking to expand the BNPL model into other categories.\\nFintechVeteran to visionary: What I learned in the marines about being a fintech founderLamine Zarrad8:35 AM PST•November 11, 2023According to the SBA, veterans are roughly 45% more likely to form their own business compared to people who haven’t served in the military.\\nSign up for NewslettersSee all newsletters(opens in a new window)DailyWeek in ReviewStartups WeeklyEvent UpdatesAdvertising UpdatesTechCrunch+ AnnouncementsTechCrunch+ EventsTechCrunch+ RoundupEmailSubscribeEnterpriseHow to leverage military experience to become a successful entrepreneurDan Brillman7:35 AM PST•November 11, 2023Veterans already possess many of the skills and attributes needed to be a successful entrepreneur — including having courage.\\nWhere we’ll be nextarrow-leftEnterprise Marketing MasterclassNov 15REGISTERBe a SponsorStrictlyVC – San FranciscoJan 24San FranciscoBuy TicketsBe a SponsorTechCrunch Early Stage 2024Apr 25BostonBuy TicketsBe a Sponsorarrow-rightTransportationPolestar tackles softening EV demand with new tech and next-gen vehiclesAbigail Bassett12:26 PM PST•November 10, 2023Polestar showcased this week its vision for the future: new tech and next-generation vehicles that the Swedish EV company owned by China’s Geely Holdings hopes will spark sales and spur an er...StartupsAI makes you worse at what you’re good atHaje Jan Kamps12:05 PM PST•November 10, 2023Welcome to Startups Weekly. Sign up here to get it in your inbox every Friday. If you’ve been following along with this newsletter, you’ll have noticed that I’ve been a little bit curious about AI ...AppsAutomattic CEO Matt Mullenweg details Tumblr’s future after re-orgSarah Perez11:33 AM PST•November 10, 2023This week, WordPress.com owner Matt Mullenweg confirmed his company would be shifting the majority of Tumblr’s workforce to other areas at parent company Automattic in light of the social blo...StartupsTC+ Roundup: Know your goals before taking the plungeKaryne Levy11:15 AM PST•November 10, 2023It’s not enough to just know your business model and potential TAM. You also have to consider your personal goals.\\nAIThis week in AI: OpenAI plays for keeps with GPTsKyle Wiggers, Devin Coldewey10:19 AM PST•November 10, 2023Keeping up with an industry as fast-moving as\\xa0AI\\xa0is a tall order. So until an AI can do it for you, here’s a handy roundup of recent stories in the world of machine learning, along with notable res...Government & PolicyMeta and Snap latest to get EU request for info on child safety, as bloc shoots for ‘unprecedented’ transparencyNatasha Lomas8:59 AM PST•November 10, 2023Meta and Snap are the latest tech firms to get formal requests for information (RFI) from the European Commission about the steps they’re taking to safeguard minors on their platforms in line...TechCrunchplus-boldWorkNavigating startups through smart investments, outsourcing and cash preservationAmnon Mishor8:30 AM PST•November 10, 2023Given today’s harsh economy and reduced VC spending, startups need a critical eye when purchasing SaaS and cloud infrastructure.\\nFeatured Article7 great pieces of podcast, streaming gear to gift in 2023If you’re among people as you read this, look to your left. Now look to your right. Statist...Brian Heater8:08 AM PST•November 10, 2023TechCrunchplus-boldMarket AnalysisProsecutors will likely proceed with SBF’s second trial in MarchJacquelyn Melinek8:00 AM PST•November 10, 2023Bankman-Fried won’t be sentenced till March, but he also has a second trial where he faces additional charges, including for foreign bribery.\\nApps5 things we learned from the Epic-Google antitrust case this weekSarah Perez7:40 AM PST•November 10, 2023Though Match settled its antitrust case with Google over Play Store fees for north of $300 million, Fortnite maker Epic Games proceeded to take its case to trial this week. The game maker argues th...Load MoreAboutTechCrunchStaffContact UsAdvertiseCrunchboard JobsSite MapLegalTerms of ServicePrivacy PolicyTechCrunch+ TermsRSS Terms of UseYour Privacy ChoicesCA Privacy NoticeCode of ConductAbout Our AdsTrending Tech TopicsHumane AI PinCruiseOmegle Shuts DownWorld's Largest AircraftTech LayoffsChatGPTFacebookFacebook(opens in a new window)XX(opens in a new window)YouTubeYouTube(opens in a new window)InstagramInstagram(opens in a new window)LinkedInLinkedIn(opens in a new window)MastodonMastodon(opens in a new window)© 2023 Yahoo.All rights reserved.Powered by WordPress VIP(opens in a new window).\""
      ]
     },
     "execution_count": 12,
     "metadata": {},
     "output_type": "execute_result"
    }
   ],
   "source": [
    "output"
   ]
  },
  {
   "cell_type": "code",
   "execution_count": 13,
   "id": "bfcd5f3e-6c4d-477e-9586-9c451883c88d",
   "metadata": {
    "tags": []
   },
   "outputs": [],
   "source": [
    "# Define Structured Schema for LangChain, Text Extraction with LangChain\n",
    "from langchain.chat_models import ChatOpenAI\n",
    "from langchain.chains import create_extraction_chain\n",
    "\n",
    "structured_schema = {\n",
    "    \"properties\": {\n",
    "        \"article_name\": {\"type\": \"string\"},\n",
    "        \"article_url\": {\"type\": \"string\"},\n",
    "    },\n",
    "    \"required\": [\"article_name\", \"article_url\"],\n",
    "}\n",
    "llm = ChatOpenAI(temperature=0, model=\"gpt-4\", openai_api_key=OPENAI_KEY)\n",
    "extraction_chain = create_extraction_chain(structured_schema, llm)\n",
    "\n",
    "tech_crunch_json_result = extraction_chain.run(output)\n"
   ]
  },
  {
   "cell_type": "code",
   "execution_count": 14,
   "id": "b37d4d8d-f8dc-40bd-a60a-3e31a69e6ab9",
   "metadata": {},
   "outputs": [
    {
     "data": {
      "text/plain": [
       "[{'article_name': 'Keep IT complexity in check with pragmatic composable commerce',\n",
       "  'article_url': 'https://techcrunch.com/2023/11/12/keep-it-complexity-in-check-with-pragmatic-composable-commerce/'},\n",
       " {'article_name': 'How Inversion Art is trying to become the Y Combinator of the arts world',\n",
       "  'article_url': 'https://techcrunch.com/2023/11/12/how-inversion-art-is-trying-to-become-the-y-combinator-of-the-arts-world/'},\n",
       " {'article_name': 'Three human mistakes VCs often make, and how understanding them can help entrepreneurs fundraise better',\n",
       "  'article_url': 'https://techcrunch.com/2023/11/12/three-human-mistakes-vcs-often-make-and-how-understanding-them-can-help-entrepreneurs-fundraise-better/'},\n",
       " {'article_name': 'Klarna’s and Affirm’s very good week',\n",
       "  'article_url': 'https://techcrunch.com/2023/11/12/klarnas-and-affirms-very-good-week/'},\n",
       " {'article_name': 'Robotics Q&A: CMU’s Matthew Johnson-Roberson',\n",
       "  'article_url': 'https://techcrunch.com/2023/11/12/robotics-qa-cmus-matthew-johnson-roberson/'},\n",
       " {'article_name': 'OpenAI hosts a dev day, TechCrunch reviews the M3 iMac and MacBook Pro, and Bumble gets a new CEO',\n",
       "  'article_url': 'https://techcrunch.com/2023/11/11/openai-hosts-a-dev-day-techcrunch-reviews-the-m3-imac-and-macbook-pro-and-bumble-gets-a-new-ceo/'},\n",
       " {'article_name': 'Will Airbnb’s co-founder build your next home?',\n",
       "  'article_url': 'https://techcrunch.com/2023/11/11/will-airbnbs-co-founder-build-your-next-home/'},\n",
       " {'article_name': 'Deal Dive: BNPL expands beyond its roots — that’s a good thing',\n",
       "  'article_url': 'https://techcrunch.com/2023/11/11/deal-dive-bnpl-expands-beyond-its-roots-thats-a-good-thing/'},\n",
       " {'article_name': 'Veteran to visionary: What I learned in the marines about being a fintech founder',\n",
       "  'article_url': 'https://techcrunch.com/2023/11/11/veteran-to-visionary-what-i-learned-in-the-marines-about-being-a-fintech-founder/'},\n",
       " {'article_name': 'How to leverage military experience to become a successful entrepreneur',\n",
       "  'article_url': 'https://techcrunch.com/2023/11/11/how-to-leverage-military-experience-to-become-a-successful-entrepreneur/'},\n",
       " {'article_name': 'Polestar tackles softening EV demand with new tech and next-gen vehicles',\n",
       "  'article_url': 'https://techcrunch.com/2023/11/10/polestar-tackles-softening-ev-demand-with-new-tech-and-next-gen-vehicles/'},\n",
       " {'article_name': 'AI makes you worse at what you’re good at',\n",
       "  'article_url': 'https://techcrunch.com/2023/11/10/ai-makes-you-worse-at-what-youre-good-at/'},\n",
       " {'article_name': 'Automattic CEO Matt Mullenweg details Tumblr’s future after re-org',\n",
       "  'article_url': 'https://techcrunch.com/2023/11/10/automattic-ceo-matt-mullenweg-details-tumblrs-future-after-re-org/'},\n",
       " {'article_name': 'TC+ Roundup: Know your goals before taking the plunge',\n",
       "  'article_url': 'https://techcrunch.com/2023/11/10/tc-roundup-know-your-goals-before-taking-the-plunge/'},\n",
       " {'article_name': 'This week in AI: OpenAI plays for keeps with GPTs',\n",
       "  'article_url': 'https://techcrunch.com/2023/11/10/this-week-in-ai-openai-plays-for-keeps-with-gpts/'},\n",
       " {'article_name': 'Meta and Snap latest to get EU request for info on child safety, as bloc shoots for ‘unprecedented’ transparency',\n",
       "  'article_url': 'https://techcrunch.com/2023/11/10/meta-and-snap-latest-to-get-eu-request-for-info-on-child-safety-as-bloc-shoots-for-unprecedented-transparency/'},\n",
       " {'article_name': 'Navigating startups through smart investments, outsourcing and cash preservation',\n",
       "  'article_url': 'https://techcrunch.com/2023/11/10/navigating-startups-through-smart-investments-outsourcing-and-cash-preservation/'},\n",
       " {'article_name': 'Prosecutors will likely proceed with SBF’s second trial in March',\n",
       "  'article_url': 'https://techcrunch.com/2023/11/10/prosecutors-will-likely-proceed-with-sbfs-second-trial-in-march/'},\n",
       " {'article_name': '5 things we learned from the Epic-Google antitrust case this week',\n",
       "  'article_url': 'https://techcrunch.com/2023/11/10/5-things-we-learned-from-the-epic-google-antitrust-case-this-week/'}]"
      ]
     },
     "execution_count": 14,
     "metadata": {},
     "output_type": "execute_result"
    }
   ],
   "source": [
    "tech_crunch_json_result"
   ]
  },
  {
   "cell_type": "code",
   "execution_count": 15,
   "id": "37477210-6fcd-4e49-8637-70bbc1e69dd0",
   "metadata": {},
   "outputs": [],
   "source": [
    "# Extract Article Content with Goose\n",
    "from goose3 import Goose\n",
    "\n",
    "g = Goose()\n",
    "url = tech_crunch_json_result[0]['article_url']\n",
    "article = g.extract(url=url)\n",
    "main_content = article.cleaned_text\n",
    "title = article.title\n"
   ]
  },
  {
   "cell_type": "code",
   "execution_count": 16,
   "id": "bbb01197-dd9b-4ac8-ade3-bcc84e1f6420",
   "metadata": {},
   "outputs": [
    {
     "data": {
      "text/plain": [
       "('Keep IT complexity in check with pragmatic composable commerce',\n",
       " 'Legacy digital commerce architectures are no longer sustainable in today’s commerce arena. With every component tightly integrated into a monolithic architecture, a legacy platform’s inflexibility, low reliability, and high maintenance costs make it nearly impossible for a merchant to test and roll out commerce capabilities in sync with consumer expectations.\\n\\nTo address these limitations, many merchants have shifted toward a more flexible commerce architecture — like headless commerce. This structure decouples the front-end presentation of a merchant’s storefront from back-end services like inventory management and payment processing. Headless commerce enables merchants to independently evolve and scale each element of their infrastructure, which reduces risk during system updates and supports the creation of unique customer experiences and functionalities.\\n\\nPlatforms that support headless commerce are API-first, meaning they can facilitate seamless transactions across various customer touchpoints (e.g., desktop, mobile, social, and IoT). However, today’s dynamic digital commerce landscape often demands even more flexibility and customization. This is where composable commerce comes into play.\\n\\nComposable commerce elevates the concept of headless commerce by enhancing flexibility and adaptability. It not only decouples the front end from the back end, as is the case with headless, but it also separates every element of the commerce architecture, including content management, site search, and personalization. This eliminates vendor lock-in and enables retailers to integrate best-of-breed applications for any functionality.\\n\\nAs a result, merchants gain the flexibility to update individual components without risking disruption to the entire business, allowing them to adapt swiftly to market changes and innovate at scale. But is there such a thing as too much freedom and flexibility when it comes to customization?')"
      ]
     },
     "execution_count": 16,
     "metadata": {},
     "output_type": "execute_result"
    }
   ],
   "source": [
    "title, main_content"
   ]
  },
  {
   "cell_type": "code",
   "execution_count": 17,
   "id": "64afb880-fff4-4476-b1ca-ef52cf6a053b",
   "metadata": {
    "tags": []
   },
   "outputs": [
    {
     "name": "stdout",
     "output_type": "stream",
     "text": [
      "传统的数字商务架构在今天的商务领域已经无法持续。由于每个组件都紧密地集成在单一的架构中，传统平台的不灵活性、低可靠性和高维护成本使得商家几乎无法测试和同步推出符合消费者期望的商务功能。\n",
      "\n",
      "为了解决这些限制，许多商家已经转向更灵活的商务架构，如无头商务。这种结构将商家店面的前端展示与后端服务（如库存管理和支付处理）分离。无头商务使商家能够独立发展和扩展他们的基础设施的每个元素，这降低了系统更新期间的风险，并支持创建独特的客户体验和功能。\n",
      "\n",
      "支持无头商务的平台是API优先的，这意味着它们可以在各种客户接触点（例如，桌面，移动设备，社交和物联网）之间进行无缝交易。然而，今天的动态数字商务环境往往需要更多的灵活性和定制化。这就是组合式商务发挥作用的地方。\n",
      "\n",
      "组合式商务提升了无头商务的概念，增强了灵活性和适应性。它不仅将前端与后端分离，如无头商务那样，而且还将商务架构的每个元素（包括内容管理，站点搜索和个性化）分离。这消除了供应商锁定，并使零售商能够为任何功能集成最优秀的应用程序。\n",
      "\n",
      "因此，商家获得了更新单个组件而不会对整个业务造成破坏的灵活性，使他们能够迅速适应市场变化并进行大规模创新。但是，当涉及到定制时，是否存在过多的自由和灵活性呢？\n"
     ]
    }
   ],
   "source": [
    "# Summarize Article Content with OpenAI\n",
    "from langchain.schema import HumanMessage, SystemMessage\n",
    "\n",
    "messages = [\n",
    "    SystemMessage(content=\"You are an assistant that summarizes articles.\"),\n",
    "    HumanMessage(content=f\"请用中文为我总结这篇文章: {main_content}\"),\n",
    "]\n",
    "\n",
    "result = llm(messages)\n",
    "print(result.content)\n",
    "\n"
   ]
  },
  {
   "cell_type": "code",
   "execution_count": null,
   "id": "288fc176-6813-4de2-beb5-cbb52265e72f",
   "metadata": {},
   "outputs": [],
   "source": []
  }
 ],
 "metadata": {
  "kernelspec": {
   "display_name": "Python 3 (ipykernel)",
   "language": "python",
   "name": "python3"
  },
  "language_info": {
   "codemirror_mode": {
    "name": "ipython",
    "version": 3
   },
   "file_extension": ".py",
   "mimetype": "text/x-python",
   "name": "python",
   "nbconvert_exporter": "python",
   "pygments_lexer": "ipython3",
   "version": "3.9.7"
  }
 },
 "nbformat": 4,
 "nbformat_minor": 5
}
